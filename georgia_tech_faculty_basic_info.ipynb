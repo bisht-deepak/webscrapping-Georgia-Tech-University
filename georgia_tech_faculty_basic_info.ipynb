{
  "cells": [
    {
      "cell_type": "markdown",
      "metadata": {
        "id": "view-in-github",
        "colab_type": "text"
      },
      "source": [
        "<a href=\"https://colab.research.google.com/github/bisht-deepak/webscrapping-Georgia-Tech-University/blob/main/georgia_tech_faculty_basic_info.ipynb\" target=\"_parent\"><img src=\"https://colab.research.google.com/assets/colab-badge.svg\" alt=\"Open In Colab\"/></a>"
      ]
    },
    {
      "cell_type": "code",
      "execution_count": null,
      "id": "91dee660",
      "metadata": {
        "id": "91dee660"
      },
      "outputs": [],
      "source": [
        "import requests\n",
        "from bs4 import BeautifulSoup\n",
        "import re\n",
        "import pandas as pd"
      ]
    },
    {
      "cell_type": "code",
      "execution_count": null,
      "id": "4a82b11f",
      "metadata": {
        "id": "4a82b11f"
      },
      "outputs": [],
      "source": [
        "#important links\n",
        "georgiaTechBaseURL= \"https://www.ece.gatech.edu/faculty-staff-directory\"\n",
        "landingPageURL= \"?field_group_filter_value=1\""
      ]
    },
    {
      "cell_type": "code",
      "execution_count": null,
      "id": "03b14e7d",
      "metadata": {
        "id": "03b14e7d"
      },
      "outputs": [],
      "source": [
        "#preparing soup\n",
        "with requests.Session() as s:\n",
        "    root= s.get(georgiaTechBaseURL+landingPageURL)\n",
        "    soup = BeautifulSoup(root.text, \"html.parser\")"
      ]
    },
    {
      "cell_type": "code",
      "execution_count": null,
      "id": "b423997c",
      "metadata": {
        "scrolled": true,
        "id": "b423997c"
      },
      "outputs": [],
      "source": [
        "grandList= []\n",
        "for i in range(0, 129, 1):\n",
        "    d= {}\n",
        "    \n",
        "    name= soup.find_all(\"div\", {\"class\": \"field-full-name\"})[i]\n",
        "    d[\"name\"]= name.find(\"a\").text\n",
        "    \n",
        "    title= soup.find_all(\"div\", {\"class\": \"field-jobtitle\"})[i]\n",
        "    d[\"jobtitle\"]= title.text.replace(\"\\n\", \"\").replace(\" \", \"\")\n",
        "\n",
        "    mailid= soup.find_all('a', attrs={\"href\": re.compile(\"^mailto:\")})[i]\n",
        "    d[\"email_address\"]= mailid.get('href')[7:]\n",
        "        \n",
        "    phone= soup.find_all(\"div\", {\"class\": \"field-work-phone\"})[i]\n",
        "    phone= phone.text.replace(\"\\n\", \"\").replace(\" \", \"\")\n",
        "    if phone== \"\":\n",
        "        d[\"work_phone\"]= None\n",
        "    else:\n",
        "        d[\"work_phone\"]= phone\n",
        "    \n",
        "    #extract office address\n",
        "    try:\n",
        "        office= soup.find_all(\"div\", {\"class\": \"faculty-staff-content\"})[i]\n",
        "        d[\"office_address\"]= office.find(\"div\", {\"class\": \"field-office\"}).text.replace(\"\\n\", \"\").replace(\" \", \"\") \n",
        "        #problem faced- total listings= 129, total offices= 116\n",
        "    except:\n",
        "        d[\"office_address\"]= None   \n",
        "    grandList.append(d)"
      ]
    },
    {
      "cell_type": "code",
      "execution_count": null,
      "id": "e2dc1a72",
      "metadata": {
        "id": "e2dc1a72"
      },
      "outputs": [],
      "source": [
        "dF= pd.DataFrame(grandList)"
      ]
    },
    {
      "cell_type": "code",
      "execution_count": null,
      "id": "c9c31cb1",
      "metadata": {
        "id": "c9c31cb1",
        "outputId": "58cfa855-89b2-4383-85d3-93f08ba9f22e"
      },
      "outputs": [
        {
          "data": {
            "text/html": [
              "<div>\n",
              "<style scoped>\n",
              "    .dataframe tbody tr th:only-of-type {\n",
              "        vertical-align: middle;\n",
              "    }\n",
              "\n",
              "    .dataframe tbody tr th {\n",
              "        vertical-align: top;\n",
              "    }\n",
              "\n",
              "    .dataframe thead th {\n",
              "        text-align: right;\n",
              "    }\n",
              "</style>\n",
              "<table border=\"1\" class=\"dataframe\">\n",
              "  <thead>\n",
              "    <tr style=\"text-align: right;\">\n",
              "      <th></th>\n",
              "      <th>name</th>\n",
              "      <th>jobtitle</th>\n",
              "      <th>email_address</th>\n",
              "      <th>work_phone</th>\n",
              "      <th>office_address</th>\n",
              "    </tr>\n",
              "  </thead>\n",
              "  <tbody>\n",
              "    <tr>\n",
              "      <th>0</th>\n",
              "      <td>Chaouki Tanios Abdallah</td>\n",
              "      <td>Professor;ExecVP-ResearchatGeorgiaTech</td>\n",
              "      <td>ctabdallah@gatech.edu</td>\n",
              "      <td>None</td>\n",
              "      <td>None</td>\n",
              "    </tr>\n",
              "    <tr>\n",
              "      <th>1</th>\n",
              "      <td>Ali Adibi</td>\n",
              "      <td>Professor</td>\n",
              "      <td>ali.adibi@ece.gatech.edu</td>\n",
              "      <td>404/385-2738</td>\n",
              "      <td>BH105</td>\n",
              "    </tr>\n",
              "    <tr>\n",
              "      <th>2</th>\n",
              "      <td>Ghassan AlRegib</td>\n",
              "      <td>Professor</td>\n",
              "      <td>alregib@gatech.edu</td>\n",
              "      <td>404/894-7005</td>\n",
              "      <td>Cent5224</td>\n",
              "    </tr>\n",
              "    <tr>\n",
              "      <th>3</th>\n",
              "      <td>David V Anderson</td>\n",
              "      <td>Professor</td>\n",
              "      <td>anderson@gatech.edu</td>\n",
              "      <td>404/385-4979</td>\n",
              "      <td>TSRB543</td>\n",
              "    </tr>\n",
              "    <tr>\n",
              "      <th>4</th>\n",
              "      <td>Azadeh Ansari</td>\n",
              "      <td>AssistantProfessor</td>\n",
              "      <td>azadeh.ansari@ece.gatech.edu</td>\n",
              "      <td>None</td>\n",
              "      <td>TSRB544</td>\n",
              "    </tr>\n",
              "  </tbody>\n",
              "</table>\n",
              "</div>"
            ],
            "text/plain": [
              "                      name                                jobtitle  \\\n",
              "0  Chaouki Tanios Abdallah  Professor;ExecVP-ResearchatGeorgiaTech   \n",
              "1                Ali Adibi                               Professor   \n",
              "2          Ghassan AlRegib                               Professor   \n",
              "3         David V Anderson                               Professor   \n",
              "4            Azadeh Ansari                      AssistantProfessor   \n",
              "\n",
              "                  email_address    work_phone office_address  \n",
              "0         ctabdallah@gatech.edu          None           None  \n",
              "1      ali.adibi@ece.gatech.edu  404/385-2738          BH105  \n",
              "2            alregib@gatech.edu  404/894-7005       Cent5224  \n",
              "3           anderson@gatech.edu  404/385-4979        TSRB543  \n",
              "4  azadeh.ansari@ece.gatech.edu          None        TSRB544  "
            ]
          },
          "execution_count": 10,
          "metadata": {},
          "output_type": "execute_result"
        }
      ],
      "source": [
        "dF.head(5)"
      ]
    },
    {
      "cell_type": "code",
      "execution_count": null,
      "id": "8e1dd048",
      "metadata": {
        "id": "8e1dd048"
      },
      "outputs": [],
      "source": [
        "dF.to_csv(\"Georgia Tech Landing Page.csv\")"
      ]
    }
  ],
  "metadata": {
    "kernelspec": {
      "display_name": "Python 3",
      "language": "python",
      "name": "python3"
    },
    "language_info": {
      "codemirror_mode": {
        "name": "ipython",
        "version": 3
      },
      "file_extension": ".py",
      "mimetype": "text/x-python",
      "name": "python",
      "nbconvert_exporter": "python",
      "pygments_lexer": "ipython3",
      "version": "3.8.8"
    },
    "colab": {
      "provenance": [],
      "include_colab_link": true
    }
  },
  "nbformat": 4,
  "nbformat_minor": 5
}